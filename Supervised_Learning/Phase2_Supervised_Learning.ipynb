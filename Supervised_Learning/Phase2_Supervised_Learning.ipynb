{
 "cells": [
  {
   "cell_type": "markdown",
   "id": "6ead59aa",
   "metadata": {},
   "source": [
    "# Phase2_Supervised_Learning\n",
    "\n",
    "**Course:** SWE 485  \n",
    "**Notebook:** Phase2_Supervised_Learning.ipynb\n",
    "\n",
    "## Dataset Goal & Source\n",
    "- **Goal:** Analyze relationships between job titles and required skills for recommendation.\n",
    "- **Source:** https://www.kaggle.com/datasets/batuhanmutlu/job-skill-set?resource=download"
   ]
  },
  {
   "cell_type": "code",
   "execution_count": 2,
   "id": "09fbe7c4",
   "metadata": {},
   "outputs": [],
   "source": [
    "# Imports\n",
    "\n",
    "import pandas as pd\n",
    "import numpy as np\n",
    "from sklearn.model_selection import train_test_split\n",
    "\n",
    "\n",
    "# For building the pipeline\n",
    "from sklearn.pipeline import Pipeline\n",
    "from sklearn.feature_extraction.text import TfidfVectorizer\n",
    "\n",
    "# For the models (Algorithms)\n",
    "from sklearn.naive_bayes import MultinomialNB\n",
    "from sklearn.svm import LinearSVC\n",
    "\n",
    "# For evaluation\n",
    "from sklearn.metrics import classification_report, confusion_matrix\n",
    "from sklearn.model_selection import cross_val_score\n",
    "import seaborn as sns # For plotting the confusion matrix"
   ]
  },
  {
   "cell_type": "code",
   "execution_count": 3,
   "id": "7c875684",
   "metadata": {},
   "outputs": [
    {
     "name": "stdout",
     "output_type": "stream",
     "text": [
      "Loaded: ../Dataset/jobs_dataset_raw.csv\n"
     ]
    }
   ],
   "source": [
    "# Load Dataset\n",
    "\n",
    "DATA_PATH = \"../Dataset/jobs_dataset_raw.csv\"\n",
    "\n",
    "try:\n",
    "    df = pd.read_csv(DATA_PATH)\n",
    "    print(f\"Loaded: {DATA_PATH}\")\n",
    "except FileNotFoundError as e:\n",
    "    raise FileNotFoundError(f\"File not found: '{DATA_PATH}'. Please verify the name and folder.\") from e"
   ]
  },
  {
   "cell_type": "code",
   "execution_count": 4,
   "id": "c9d744a8",
   "metadata": {},
   "outputs": [
    {
     "name": "stdout",
     "output_type": "stream",
     "text": [
      "Combined text feature created successfully.\n"
     ]
    },
    {
     "data": {
      "text/html": [
       "<div>\n",
       "<style scoped>\n",
       "    .dataframe tbody tr th:only-of-type {\n",
       "        vertical-align: middle;\n",
       "    }\n",
       "\n",
       "    .dataframe tbody tr th {\n",
       "        vertical-align: top;\n",
       "    }\n",
       "\n",
       "    .dataframe thead th {\n",
       "        text-align: right;\n",
       "    }\n",
       "</style>\n",
       "<table border=\"1\" class=\"dataframe\">\n",
       "  <thead>\n",
       "    <tr style=\"text-align: right;\">\n",
       "      <th></th>\n",
       "      <th>category</th>\n",
       "      <th>all_text</th>\n",
       "    </tr>\n",
       "  </thead>\n",
       "  <tbody>\n",
       "    <tr>\n",
       "      <th>0</th>\n",
       "      <td>HR</td>\n",
       "      <td>Sr Human Resource Generalist SUMMARY\\nTHE SR. ...</td>\n",
       "    </tr>\n",
       "    <tr>\n",
       "      <th>1</th>\n",
       "      <td>HR</td>\n",
       "      <td>Human Resources Manager BE PART OF A STELLAR T...</td>\n",
       "    </tr>\n",
       "    <tr>\n",
       "      <th>2</th>\n",
       "      <td>HR</td>\n",
       "      <td>Director of Human Resources OUR CLIENT IS A TH...</td>\n",
       "    </tr>\n",
       "    <tr>\n",
       "      <th>3</th>\n",
       "      <td>HR</td>\n",
       "      <td>Chief Human Resources Officer JOB TITLE: CHIEF...</td>\n",
       "    </tr>\n",
       "    <tr>\n",
       "      <th>4</th>\n",
       "      <td>HR</td>\n",
       "      <td>Human Resources Generalist (Hybrid Role) DESCR...</td>\n",
       "    </tr>\n",
       "  </tbody>\n",
       "</table>\n",
       "</div>"
      ],
      "text/plain": [
       "  category                                           all_text\n",
       "0       HR  Sr Human Resource Generalist SUMMARY\\nTHE SR. ...\n",
       "1       HR  Human Resources Manager BE PART OF A STELLAR T...\n",
       "2       HR  Director of Human Resources OUR CLIENT IS A TH...\n",
       "3       HR  Chief Human Resources Officer JOB TITLE: CHIEF...\n",
       "4       HR  Human Resources Generalist (Hybrid Role) DESCR..."
      ]
     },
     "execution_count": 4,
     "metadata": {},
     "output_type": "execute_result"
    }
   ],
   "source": [
    "# 2. Data Cleaning and Preparation\n",
    "\n",
    "# Clean the skills column from brackets and quotes\n",
    "# e.g., \"'Python', 'SQL'\" ---> \"Python SQL\"\n",
    "df['job_skill_set_cleaned'] = df['job_skill_set'].str.strip(\"[]'\").str.replace(\"', '\", \" \", regex=False)\n",
    "\n",
    "# Combine all text columns into one feature for the model to process(the main feature, X)\n",
    "# Using .fillna('') to avoid errors with missing text\n",
    "df['all_text'] = df['job_title'].fillna('') + ' ' + \\\n",
    "                 df['job_description'].fillna('') + ' ' + \\\n",
    "                 df['job_skill_set_cleaned'].fillna('')\n",
    "\n",
    "print(\"Combined text feature created successfully.\")\n",
    "df[['category', 'all_text']].head()"
   ]
  },
  {
   "cell_type": "code",
   "execution_count": 5,
   "id": "6a93e536",
   "metadata": {},
   "outputs": [
    {
     "name": "stdout",
     "output_type": "stream",
     "text": [
      "Features (X) shape: (1167,)\n",
      "Target (y) shape: (1167,)\n"
     ]
    }
   ],
   "source": [
    "# 3. Feature and Target Definition\n",
    "\n",
    "# X = input text data (features) (the text the model will read)\n",
    "X = df['all_text']\n",
    "\n",
    "# y = output category (target) (the answer we want the model to predict)\n",
    "y = df['category']\n",
    "\n",
    "print(f\"Features (X) shape: {X.shape}\")\n",
    "print(f\"Target (y) shape: {y.shape}\")"
   ]
  },
  {
   "cell_type": "code",
   "execution_count": 6,
   "id": "d6b4156a",
   "metadata": {},
   "outputs": [
    {
     "name": "stdout",
     "output_type": "stream",
     "text": [
      "Training set size: 933 rows\n",
      "Test set size: 234 rows\n"
     ]
    }
   ],
   "source": [
    "# 4. Train-Test Split\n",
    "\n",
    "# Split data: 80% training, 20% testing\n",
    "# stratify=y keeps the same category proportions in both splits\n",
    "\n",
    "# random_state=1 ensures we get the same split every time we run the code\n",
    "# stratify=y is a crucial step. Since our data is well-balanced (as discovered in Phase 1),\n",
    "# this ensures that the proportion of categories (IT, HR, Sales...) in the training set\n",
    "# is the same as in the test set. This makes our evaluation very accurate.\n",
    "\n",
    "X_train, X_test, y_train, y_test = train_test_split(X, y, test_size=0.2, random_state=1, stratify=y)\n",
    "\n",
    "print(f\"Training set size: {X_train.shape[0]} rows\")\n",
    "print(f\"Test set size: {X_test.shape[0]} rows\")"
   ]
  },
  {
   "cell_type": "markdown",
   "id": "35bfff1b",
   "metadata": {},
   "source": [
    "## 5. Algorithm Selection & Justification\n",
    "\n",
    "\n",
    "### Model 1: Multinomial Naive Bayes (MNB)\n",
    "* **Justification:** \n",
    "\n",
    "### Model 2: Linear Support Vector Machine (LinearSVC)\n",
    "* **Justification:**"
   ]
  },
  {
   "cell_type": "code",
   "execution_count": 7,
   "id": "703e3ba9",
   "metadata": {},
   "outputs": [
    {
     "name": "stdout",
     "output_type": "stream",
     "text": [
      "Training Naive Bayes model...\n",
      "Getting predictions...\n",
      "Naive Bayes model trained and predictions are ready.\n"
     ]
    }
   ],
   "source": [
    "## 6. Model 1: Multinomial Naive Bayes (Baseline)\n",
    "\n",
    "# Create a processing pipeline\n",
    "# Step 1: Convert text to TF-IDF vectors (ngram_range=(1,2) includes bi-grams like \"problem solving\")\n",
    "# Step 2: Apply the Naive Bayes model / Train a MultinomialNB classifier\n",
    "pipeline_nb = Pipeline([\n",
    "    ('tfidf', TfidfVectorizer(stop_words='english', ngram_range=(1, 2))),\n",
    "    ('model', MultinomialNB())\n",
    "])\n",
    "\n",
    "# Train the model on the training data\n",
    "print(\"Training Naive Bayes model...\")\n",
    "pipeline_nb.fit(X_train, y_train)\n",
    "\n",
    "# Get predictions on the test set\n",
    "print(\"Getting predictions...\")\n",
    "y_pred_nb = pipeline_nb.predict(X_test)\n",
    "\n",
    "print(\"Naive Bayes model trained and predictions are ready.\")"
   ]
  }
 ],
 "metadata": {
  "kernelspec": {
   "display_name": ".venv",
   "language": "python",
   "name": "python3"
  },
  "language_info": {
   "codemirror_mode": {
    "name": "ipython",
    "version": 3
   },
   "file_extension": ".py",
   "mimetype": "text/x-python",
   "name": "python",
   "nbconvert_exporter": "python",
   "pygments_lexer": "ipython3",
   "version": "3.9.6"
  }
 },
 "nbformat": 4,
 "nbformat_minor": 5
}
