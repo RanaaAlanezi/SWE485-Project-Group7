{
 "cells": [
  {
   "cell_type": "markdown",
   "id": "6ead59aa",
   "metadata": {},
   "source": [
    "# Phase2_Supervised_Learning\n",
    "\n",
    "**Course:** SWE 485  \n",
    "**Notebook:** Phase2_Supervised_Learning.ipynb\n",
    "\n",
    "## Dataset Goal & Source\n",
    "- **Goal:** Analyze relationships between job titles and required skills for recommendation.\n",
    "- **Source:** https://www.kaggle.com/datasets/batuhanmutlu/job-skill-set?resource=download"
   ]
  },
  {
   "cell_type": "code",
   "execution_count": 10,
   "id": "1ad4f61d",
   "metadata": {},
   "outputs": [
    {
     "name": "stdout",
     "output_type": "stream",
     "text": [
      "Note: you may need to restart the kernel to use updated packages.\n"
     ]
    },
    {
     "name": "stderr",
     "output_type": "stream",
     "text": [
      "\n",
      "[notice] A new release of pip is available: 24.0 -> 25.3\n",
      "[notice] To update, run: C:\\Users\\lamaa\\AppData\\Local\\Microsoft\\WindowsApps\\PythonSoftwareFoundation.Python.3.11_qbz5n2kfra8p0\\python.exe -m pip install --upgrade pip\n"
     ]
    }
   ],
   "source": [
    "%pip install -q pandas numpy scikit-learn matplotlib seaborn"
   ]
  },
  {
   "cell_type": "code",
   "execution_count": 11,
   "id": "09fbe7c4",
   "metadata": {},
   "outputs": [],
   "source": [
    "# Imports\n",
    "\n",
    "import pandas as pd\n",
    "import numpy as np\n",
    "from sklearn.model_selection import train_test_split\n",
    "\n",
    "\n",
    "# For building the pipeline\n",
    "from sklearn.pipeline import Pipeline\n",
    "from sklearn.feature_extraction.text import TfidfVectorizer\n",
    "\n",
    "# For the models (Algorithms)\n",
    "from sklearn.naive_bayes import MultinomialNB\n",
    "from sklearn.svm import LinearSVC\n",
    "\n",
    "# For evaluation\n",
    "from sklearn.metrics import classification_report, confusion_matrix\n",
    "from sklearn.model_selection import cross_val_score\n",
    "import seaborn as sns # For plotting the confusion matrix"
   ]
  },
  {
   "cell_type": "code",
   "execution_count": 12,
   "id": "7c875684",
   "metadata": {},
   "outputs": [
    {
     "name": "stdout",
     "output_type": "stream",
     "text": [
      "Loaded: jobs_dataset_raw.csv\n"
     ]
    }
   ],
   "source": [
    "# Load Dataset\n",
    "\n",
    "DATA_PATH = \"jobs_dataset_raw.csv\"\n",
    "\n",
    "try:\n",
    "    df = pd.read_csv(DATA_PATH)\n",
    "    print(f\"Loaded: {DATA_PATH}\")\n",
    "except FileNotFoundError as e:\n",
    "    raise FileNotFoundError(f\"File not found: '{DATA_PATH}'. Please verify the name and folder.\") from e"
   ]
  },
  {
   "cell_type": "code",
   "execution_count": 13,
   "id": "c9d744a8",
   "metadata": {},
   "outputs": [
    {
     "name": "stdout",
     "output_type": "stream",
     "text": [
      "Combined text feature created successfully.\n"
     ]
    },
    {
     "data": {
      "text/html": [
       "<div>\n",
       "<style scoped>\n",
       "    .dataframe tbody tr th:only-of-type {\n",
       "        vertical-align: middle;\n",
       "    }\n",
       "\n",
       "    .dataframe tbody tr th {\n",
       "        vertical-align: top;\n",
       "    }\n",
       "\n",
       "    .dataframe thead th {\n",
       "        text-align: right;\n",
       "    }\n",
       "</style>\n",
       "<table border=\"1\" class=\"dataframe\">\n",
       "  <thead>\n",
       "    <tr style=\"text-align: right;\">\n",
       "      <th></th>\n",
       "      <th>category</th>\n",
       "      <th>all_text</th>\n",
       "    </tr>\n",
       "  </thead>\n",
       "  <tbody>\n",
       "    <tr>\n",
       "      <th>0</th>\n",
       "      <td>HR</td>\n",
       "      <td>Sr Human Resource Generalist SUMMARY\\r\\nTHE SR...</td>\n",
       "    </tr>\n",
       "    <tr>\n",
       "      <th>1</th>\n",
       "      <td>HR</td>\n",
       "      <td>Human Resources Manager BE PART OF A STELLAR T...</td>\n",
       "    </tr>\n",
       "    <tr>\n",
       "      <th>2</th>\n",
       "      <td>HR</td>\n",
       "      <td>Director of Human Resources OUR CLIENT IS A TH...</td>\n",
       "    </tr>\n",
       "    <tr>\n",
       "      <th>3</th>\n",
       "      <td>HR</td>\n",
       "      <td>Chief Human Resources Officer JOB TITLE: CHIEF...</td>\n",
       "    </tr>\n",
       "    <tr>\n",
       "      <th>4</th>\n",
       "      <td>HR</td>\n",
       "      <td>Human Resources Generalist (Hybrid Role) DESCR...</td>\n",
       "    </tr>\n",
       "  </tbody>\n",
       "</table>\n",
       "</div>"
      ],
      "text/plain": [
       "  category                                           all_text\n",
       "0       HR  Sr Human Resource Generalist SUMMARY\\r\\nTHE SR...\n",
       "1       HR  Human Resources Manager BE PART OF A STELLAR T...\n",
       "2       HR  Director of Human Resources OUR CLIENT IS A TH...\n",
       "3       HR  Chief Human Resources Officer JOB TITLE: CHIEF...\n",
       "4       HR  Human Resources Generalist (Hybrid Role) DESCR..."
      ]
     },
     "execution_count": 13,
     "metadata": {},
     "output_type": "execute_result"
    }
   ],
   "source": [
    "# 2. Data Cleaning and Preparation\n",
    "\n",
    "# Clean the skills column from brackets and quotes\n",
    "# e.g., \"'Python', 'SQL'\" ---> \"Python SQL\"\n",
    "df['job_skill_set_cleaned'] = df['job_skill_set'].str.strip(\"[]'\").str.replace(\"', '\", \" \", regex=False)\n",
    "\n",
    "# Combine all text columns into one feature for the model to process(the main feature, X)\n",
    "# Using .fillna('') to avoid errors with missing text\n",
    "df['all_text'] = df['job_title'].fillna('') + ' ' + \\\n",
    "                 df['job_description'].fillna('') + ' ' + \\\n",
    "                 df['job_skill_set_cleaned'].fillna('')\n",
    "\n",
    "print(\"Combined text feature created successfully.\")\n",
    "df[['category', 'all_text']].head()"
   ]
  },
  {
   "cell_type": "code",
   "execution_count": 14,
   "id": "6a93e536",
   "metadata": {},
   "outputs": [
    {
     "name": "stdout",
     "output_type": "stream",
     "text": [
      "Features (X) shape: (1167,)\n",
      "Target (y) shape: (1167,)\n"
     ]
    }
   ],
   "source": [
    "# 3. Feature and Target Definition\n",
    "\n",
    "# X = input text data (features) (the text the model will read)\n",
    "X = df['all_text']\n",
    "\n",
    "# y = output category (target) (the answer we want the model to predict)\n",
    "y = df['category']\n",
    "\n",
    "print(f\"Features (X) shape: {X.shape}\")\n",
    "print(f\"Target (y) shape: {y.shape}\")"
   ]
  },
  {
   "cell_type": "code",
   "execution_count": 15,
   "id": "d6b4156a",
   "metadata": {},
   "outputs": [
    {
     "name": "stdout",
     "output_type": "stream",
     "text": [
      "Training set size: 933 rows\n",
      "Test set size: 234 rows\n"
     ]
    }
   ],
   "source": [
    "# 4. Train-Test Split\n",
    "\n",
    "# Split data: 80% training, 20% testing\n",
    "# stratify=y keeps the same category proportions in both splits\n",
    "\n",
    "# random_state=1 ensures we get the same split every time we run the code\n",
    "# stratify=y is a crucial step. Since our data is well-balanced (as discovered in Phase 1),\n",
    "# this ensures that the proportion of categories (IT, HR, Sales...) in the training set\n",
    "# is the same as in the test set. This makes our evaluation very accurate.\n",
    "\n",
    "X_train, X_test, y_train, y_test = train_test_split(X, y, test_size=0.2, random_state=1, stratify=y)\n",
    "\n",
    "print(f\"Training set size: {X_train.shape[0]} rows\")\n",
    "print(f\"Test set size: {X_test.shape[0]} rows\")"
   ]
  },
  {
   "cell_type": "markdown",
   "id": "35bfff1b",
   "metadata": {},
   "source": [
    "## 5. Algorithm Selection & Justification\n",
    "We selected two supervised learning algorithms for this project: \n",
    "Multinomial Naive Bayes (MNB) and Support Vector Machine (SVM)\n",
    "\n",
    "Since our data type is text, we chose these algorithms as they're widely used text classification.\n",
    "\n",
    "### Model 1: Multinomial Naive Bayes (MNB)\n",
    "* **Justification:** \n",
    "MNB assumes that words in a text are independent and that their frequencies follow a multinomial distribution, which makes it a suitable fit as our dataset uses word frequencies and importance.\n",
    "It also trains quickly, handles high-dimensional text features well.\n",
    "\n",
    "### Model 2: Linear Support Vector Machine (LinearSVC)\n",
    "* **Justification:**\n",
    "SVM separates classes by finding an optimal boundary (hyperplane) and focuses on maximizing classification accuracy by finding the best separation between job categories. \n",
    "This makes it more accurate on text data but takes longer computation time."
   ]
  },
  {
   "cell_type": "code",
   "execution_count": 16,
   "id": "703e3ba9",
   "metadata": {},
   "outputs": [
    {
     "name": "stdout",
     "output_type": "stream",
     "text": [
      "Training Naive Bayes model...\n",
      "Getting predictions...\n",
      "Naive Bayes model trained and predictions are ready.\n"
     ]
    }
   ],
   "source": [
    "## 6. Model 1: Multinomial Naive Bayes (Baseline)\n",
    "\n",
    "# Create a processing pipeline\n",
    "# Step 1: Convert text to TF-IDF vectors (ngram_range=(1,2) includes bi-grams like \"problem solving\")\n",
    "# Step 2: Apply the Naive Bayes model / Train a MultinomialNB classifier\n",
    "pipeline_nb = Pipeline([\n",
    "    ('tfidf', TfidfVectorizer(stop_words='english', ngram_range=(1, 2))),\n",
    "    ('model', MultinomialNB())\n",
    "])\n",
    "\n",
    "# Train the model on the training data\n",
    "print(\"Training Naive Bayes model...\")\n",
    "pipeline_nb.fit(X_train, y_train)\n",
    "\n",
    "# Get predictions on the test set\n",
    "print(\"Getting predictions...\")\n",
    "y_pred_nb = pipeline_nb.predict(X_test)\n",
    "\n",
    "print(\"Naive Bayes model trained and predictions are ready.\")"
   ]
  },
  {
   "cell_type": "code",
   "execution_count": 17,
   "id": "17052642",
   "metadata": {},
   "outputs": [
    {
     "name": "stdout",
     "output_type": "stream",
     "text": [
      "Training Support Vector Machine model...\n",
      "Getting predictions...\n",
      "SVM model trained and predictions are ready.\n"
     ]
    }
   ],
   "source": [
    "## 7. Model 2: Linear Support Vector Machine (SVM)\n",
    "\n",
    "print(\"Training Support Vector Machine model...\")\n",
    "\n",
    "pipeline_svm = Pipeline([\n",
    "    ('tfidf', TfidfVectorizer(stop_words='english', ngram_range=(1, 2))),\n",
    "    ('model', LinearSVC())\n",
    "])\n",
    "\n",
    "# Train\n",
    "pipeline_svm.fit(X_train, y_train)\n",
    "\n",
    "# Predict\n",
    "print(\"Getting predictions...\")\n",
    "y_pred_svm = pipeline_svm.predict(X_test)\n",
    "\n",
    "print(\"SVM model trained and predictions are ready.\")\n"
   ]
  },
  {
   "cell_type": "code",
   "execution_count": 18,
   "id": "ca6bb750",
   "metadata": {},
   "outputs": [
    {
     "name": "stdout",
     "output_type": "stream",
     "text": [
      "🔹 Accuracy - Naive Bayes: 0.8718\n",
      "🔹 Accuracy - SVM: 0.9530\n",
      "\n",
      "Classification Report - Naive Bayes\n",
      "                        precision    recall  f1-score   support\n",
      "\n",
      "  BUSINESS-DEVELOPMENT       0.67      0.92      0.77        48\n",
      "               FINANCE       0.92      0.98      0.95        47\n",
      "                    HR       1.00      1.00      1.00        44\n",
      "INFORMATION-TECHNOLOGY       0.98      0.94      0.96        48\n",
      "                 SALES       0.89      0.53      0.67        47\n",
      "\n",
      "              accuracy                           0.87       234\n",
      "             macro avg       0.89      0.87      0.87       234\n",
      "          weighted avg       0.89      0.87      0.87       234\n",
      "\n",
      "Classification Report - SVM\n",
      "                        precision    recall  f1-score   support\n",
      "\n",
      "  BUSINESS-DEVELOPMENT       0.92      0.94      0.93        48\n",
      "               FINANCE       0.96      0.96      0.96        47\n",
      "                    HR       1.00      1.00      1.00        44\n",
      "INFORMATION-TECHNOLOGY       0.96      0.96      0.96        48\n",
      "                 SALES       0.93      0.91      0.92        47\n",
      "\n",
      "              accuracy                           0.95       234\n",
      "             macro avg       0.95      0.95      0.95       234\n",
      "          weighted avg       0.95      0.95      0.95       234\n",
      "\n"
     ]
    },
    {
     "data": {
      "image/png": "[encoded data removed]",
      "text/plain": [
       "<Figure size 1400x500 with 4 Axes>"
      ]
     },
     "metadata": {},
     "output_type": "display_data"
    },
    {
     "name": "stdout",
     "output_type": "stream",
     "text": [
      "5-fold CV Accuracy - Naive Bayes: 0.8706 ± 0.0227\n",
      "5-fold CV Accuracy - SVM: 0.9435 ± 0.0083\n",
      "ROC-AUC (macro) - Naive Bayes: 0.9839\n",
      "ROC-AUC (macro) - SVM: 0.9941\n"
     ]
    }
   ],
   "source": [
    "## 8. Evaluation & Comparison\n",
    " \n",
    "# Compute metrics and compare model performance\n",
    "from sklearn.metrics import accuracy_score, classification_report, confusion_matrix, roc_auc_score\n",
    "from sklearn.preprocessing import label_binarize\n",
    "from sklearn.model_selection import cross_val_score\n",
    "import matplotlib.pyplot as plt\n",
    "import seaborn as sns\n",
    "\n",
    "# Accuracy\n",
    "acc_nb = accuracy_score(y_test, y_pred_nb)\n",
    "acc_svm = accuracy_score(y_test, y_pred_svm)\n",
    "\n",
    "print(\"🔹 Accuracy - Naive Bayes: {:.4f}\".format(acc_nb))\n",
    "print(\"🔹 Accuracy - SVM: {:.4f}\\n\".format(acc_svm))\n",
    "\n",
    "# Classification report\n",
    "print(\"Classification Report - Naive Bayes\")\n",
    "print(classification_report(y_test, y_pred_nb, zero_division=0))\n",
    "\n",
    "print(\"Classification Report - SVM\")\n",
    "print(classification_report(y_test, y_pred_svm, zero_division=0))\n",
    "\n",
    "# Confusion matrices\n",
    "labels = sorted(y.unique())\n",
    "cm_nb = confusion_matrix(y_test, y_pred_nb, labels=labels)\n",
    "cm_svm = confusion_matrix(y_test, y_pred_svm, labels=labels)\n",
    "\n",
    "fig, axes = plt.subplots(1, 2, figsize=(14, 5))\n",
    "sns.heatmap(cm_nb, annot=True, fmt='d', ax=axes[0], xticklabels=labels, yticklabels=labels, cmap='Blues')\n",
    "axes[0].set_title('Confusion Matrix - Naive Bayes')\n",
    "axes[0].set_xlabel('Predicted'); axes[0].set_ylabel('Actual')\n",
    "\n",
    "sns.heatmap(cm_svm, annot=True, fmt='d', ax=axes[1], xticklabels=labels, yticklabels=labels, cmap='Blues')\n",
    "axes[1].set_title('Confusion Matrix - SVM')\n",
    "axes[1].set_xlabel('Predicted'); axes[1].set_ylabel('Actual')\n",
    "\n",
    "plt.tight_layout()\n",
    "plt.show()\n",
    "\n",
    "# Cross-validation\n",
    "cv_scores_nb = cross_val_score(pipeline_nb, X, y, cv=5, scoring='accuracy')\n",
    "cv_scores_svm = cross_val_score(pipeline_svm, X, y, cv=5, scoring='accuracy')\n",
    "\n",
    "print(\"5-fold CV Accuracy - Naive Bayes: {:.4f} ± {:.4f}\".format(cv_scores_nb.mean(), cv_scores_nb.std()))\n",
    "print(\"5-fold CV Accuracy - SVM: {:.4f} ± {:.4f}\".format(cv_scores_svm.mean(), cv_scores_svm.std()))\n",
    "\n",
    "# ROC-AUC (macro, multiclass)\n",
    "classes = sorted(y.unique())\n",
    "y_test_bin = label_binarize(y_test, classes=classes)\n",
    "\n",
    "# NB ROC-AUC\n",
    "try:\n",
    "    y_score_nb = pipeline_nb.predict_proba(X_test)\n",
    "    roc_nb = roc_auc_score(y_test_bin, y_score_nb, average='macro', multi_class='ovr')\n",
    "    print(\"ROC-AUC (macro) - Naive Bayes: {:.4f}\".format(roc_nb))\n",
    "except Exception as e:\n",
    "    print(\"Could not compute ROC-AUC for NB:\", e)\n",
    "\n",
    "# SVM ROC-AUC\n",
    "try:\n",
    "    y_score_svm = pipeline_svm.decision_function(X_test)\n",
    "    roc_svm = roc_auc_score(y_test_bin, y_score_svm, average='macro', multi_class='ovr')\n",
    "    print(\"ROC-AUC (macro) - SVM: {:.4f}\".format(roc_svm))\n",
    "except Exception as e:\n",
    "    print(\"Could not compute ROC-AUC for SVM:\", e)\n"
   ]
  },
  {
   "cell_type": "code",
   "execution_count": null,
   "id": "5b3e5a40",
   "metadata": {},
   "outputs": [
    {
     "name": "stdout",
     "output_type": "stream",
     "text": [
      "\n",
      "📊 RESULTS INTERPRETATION\n",
      "-------------------------\n",
      "Based on the evaluation metrics:\n",
      "\n",
      "- The Support Vector Machine (SVM) model generally achieved higher accuracy and \n",
      "  F1-scores compared to the Naive Bayes model. \n",
      "  This suggests that SVM was more effective in capturing complex decision boundaries \n",
      "  in the text data.\n",
      "\n",
      "- The Naive Bayes classifier performed decently, especially for balanced classes, \n",
      "  but its simplifying assumptions (feature independence) made it less accurate \n",
      "  on nuanced or overlapping text categories.\n",
      "\n",
      "- Confusion matrices showed that SVM made fewer misclassifications overall.\n",
      "\n",
      "- Cross-validation results confirmed that SVM maintained consistent accuracy \n",
      "  across different data splits, indicating strong generalization.\n",
      "\n",
      "- ROC-AUC scores (macro-averaged) were also higher for SVM, reflecting \n",
      "  better overall ranking performance across multiple classes.\n",
      "\n",
      " summary:\n",
      "SVM outperformed Naive Bayes across nearly all evaluation metrics, \n",
      "making it the preferred model for this classification task.\n",
      "\n"
     ]
    }
   ],
   "source": [
    "## 9. Results Interpretation\n",
    " \n",
    "print(\"\"\"\n",
    "📊 RESULTS INTERPRETATION\n",
    "-------------------------\n",
    "Regarding the evaluation metrics:\n",
    "\n",
    "- More often than not, the Support Vector Machine (SVM) model received higher assessments for accuracy and F1-scores than the Naive Bayes model. Thus, it can be inferred that SVM is more adept than Naive Bayes at discerning the more complex decision boundaries in the text data.\n",
    "\n",
    "- Naive Bayes classifier, particularly for balanced classes, achieved reasonable results, yet due to its more simplistic assumptions (feature independence) and the absence of real ambiguity within the text overlapping categories, accuracy was negatively affected.\n",
    "\n",
    "- As to the confusion matrices, SVM was the one who made the least number of misclassifications overall.\n",
    "\n",
    "- In the instance of cross-validation of disparate data splits, SVM achieved similar accuracy, thus, proving strong generalization.\n",
    "\n",
    "- SVM also achieved higher ROC-AUC scores (macro-averaged) which is reflective of better overall ranking performance across multiple classes.\n",
    "\n",
    "Summary: SVM significantly outperformed Naive Bayes in almost every evaluation metric, establishing it as the optimal model for this classification task.\n",
    "      \n",
    "    \n",
    "\"\"\")\n"
   ]
  }
 ],
 "metadata": {
  "kernelspec": {
   "display_name": "Python 3",
   "language": "python",
   "name": "python3"
  },
  "language_info": {
   "codemirror_mode": {
    "name": "ipython",
    "version": 3
   },
   "file_extension": ".py",
   "mimetype": "text/x-python",
   "name": "python",
   "nbconvert_exporter": "python",
   "pygments_lexer": "ipython3",
   "version": "3.11.9"
  }
 },
 "nbformat": 4,
 "nbformat_minor": 5
}
