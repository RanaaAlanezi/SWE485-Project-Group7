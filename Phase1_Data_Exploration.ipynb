{
 "cells": [
  {
   "cell_type": "markdown",
   "id": "ccb7eb90",
   "metadata": {},
   "source": [
    "# Phase1_Data_Exploration\n",
    "\n",
    "**Course:** SWE 485  \n",
    "**Notebook:** Phase1_Data_Exploration.ipynb\n",
    "\n",
    "## Dataset Goal & Source\n",
    "- **Goal:** Analyze relationships between job titles and required skills for recommendation.\n",
    "- **Source:** https://www.kaggle.com/datasets/batuhanmutlu/job-skill-set?resource=download"
   ]
  },
  {
   "cell_type": "code",
   "execution_count": 1,
   "id": "5aecfdc3",
   "metadata": {},
   "outputs": [],
   "source": [
    "# --- Imports ---\n",
    "import pandas as pd\n",
    "import numpy as np\n",
    "import matplotlib.pyplot as plt\n",
    "\n",
    "pd.set_option(\"display.max_columns\", 50)\n",
    "pd.set_option(\"display.width\", 120)"
   ]
  },
  {
   "cell_type": "code",
   "execution_count": 2,
   "id": "207794e4",
   "metadata": {},
   "outputs": [
    {
     "name": "stdout",
     "output_type": "stream",
     "text": [
      "Loaded: Dataset/jobs_dataset_raw.csv\n"
     ]
    },
    {
     "data": {
      "text/html": [
       "<div>\n",
       "<style scoped>\n",
       "    .dataframe tbody tr th:only-of-type {\n",
       "        vertical-align: middle;\n",
       "    }\n",
       "\n",
       "    .dataframe tbody tr th {\n",
       "        vertical-align: top;\n",
       "    }\n",
       "\n",
       "    .dataframe thead th {\n",
       "        text-align: right;\n",
       "    }\n",
       "</style>\n",
       "<table border=\"1\" class=\"dataframe\">\n",
       "  <thead>\n",
       "    <tr style=\"text-align: right;\">\n",
       "      <th></th>\n",
       "      <th>job_id</th>\n",
       "      <th>category</th>\n",
       "      <th>job_title</th>\n",
       "      <th>job_description</th>\n",
       "      <th>job_skill_set</th>\n",
       "    </tr>\n",
       "  </thead>\n",
       "  <tbody>\n",
       "    <tr>\n",
       "      <th>0</th>\n",
       "      <td>3902668440</td>\n",
       "      <td>HR</td>\n",
       "      <td>Sr Human Resource Generalist</td>\n",
       "      <td>SUMMARY\\nTHE SR. HR GENERALIST PROVIDES HR EXP...</td>\n",
       "      <td>['employee relations', 'talent acquisition', '...</td>\n",
       "    </tr>\n",
       "    <tr>\n",
       "      <th>1</th>\n",
       "      <td>3905823748</td>\n",
       "      <td>HR</td>\n",
       "      <td>Human Resources Manager</td>\n",
       "      <td>BE PART OF A STELLAR TEAM AT YSB AS THE MANAGE...</td>\n",
       "      <td>['Talent Acquisition', 'Employee Performance M...</td>\n",
       "    </tr>\n",
       "    <tr>\n",
       "      <th>2</th>\n",
       "      <td>3905854799</td>\n",
       "      <td>HR</td>\n",
       "      <td>Director of Human Resources</td>\n",
       "      <td>OUR CLIENT IS A THRIVING ORGANIZATION OFFERING...</td>\n",
       "      <td>['Human Resources Management', 'Recruitment', ...</td>\n",
       "    </tr>\n",
       "    <tr>\n",
       "      <th>3</th>\n",
       "      <td>3905834061</td>\n",
       "      <td>HR</td>\n",
       "      <td>Chief Human Resources Officer</td>\n",
       "      <td>JOB TITLE: CHIEF HUMAN RESOURCES OFFICER (CHRO...</td>\n",
       "      <td>['talent management', 'organizational developm...</td>\n",
       "    </tr>\n",
       "    <tr>\n",
       "      <th>4</th>\n",
       "      <td>3906250451</td>\n",
       "      <td>HR</td>\n",
       "      <td>Human Resources Generalist (Hybrid Role)</td>\n",
       "      <td>DESCRIPTION\\n\\n WHO WE ARE \\n\\nAVI-SPL IS A DI...</td>\n",
       "      <td>['Microsoft Office', 'Data analysis', 'Employe...</td>\n",
       "    </tr>\n",
       "  </tbody>\n",
       "</table>\n",
       "</div>"
      ],
      "text/plain": [
       "       job_id category                                 job_title                                    job_description  \\\n",
       "0  3902668440       HR              Sr Human Resource Generalist  SUMMARY\\nTHE SR. HR GENERALIST PROVIDES HR EXP...   \n",
       "1  3905823748       HR                   Human Resources Manager  BE PART OF A STELLAR TEAM AT YSB AS THE MANAGE...   \n",
       "2  3905854799       HR               Director of Human Resources  OUR CLIENT IS A THRIVING ORGANIZATION OFFERING...   \n",
       "3  3905834061       HR             Chief Human Resources Officer  JOB TITLE: CHIEF HUMAN RESOURCES OFFICER (CHRO...   \n",
       "4  3906250451       HR  Human Resources Generalist (Hybrid Role)  DESCRIPTION\\n\\n WHO WE ARE \\n\\nAVI-SPL IS A DI...   \n",
       "\n",
       "                                       job_skill_set  \n",
       "0  ['employee relations', 'talent acquisition', '...  \n",
       "1  ['Talent Acquisition', 'Employee Performance M...  \n",
       "2  ['Human Resources Management', 'Recruitment', ...  \n",
       "3  ['talent management', 'organizational developm...  \n",
       "4  ['Microsoft Office', 'Data analysis', 'Employe...  "
      ]
     },
     "execution_count": 2,
     "metadata": {},
     "output_type": "execute_result"
    }
   ],
   "source": [
    "# --- Load Dataset ---\n",
    "# Change the file name if needed\n",
    "DATA_PATH = \"Dataset/jobs_dataset_raw.csv\"\n",
    "\n",
    "try:\n",
    "    df = pd.read_csv(DATA_PATH)\n",
    "    print(f\"Loaded: {DATA_PATH}\")\n",
    "except FileNotFoundError as e:\n",
    "    raise FileNotFoundError(f\"File not found: '{DATA_PATH}'. Please verify the name and folder.\") from e\n",
    "\n",
    "# Preview first 5 rows\n",
    "df.head()"
   ]
  },
  {
   "cell_type": "markdown",
   "id": "79866719",
   "metadata": {},
   "source": [
    "## General Information"
   ]
  },
  {
   "cell_type": "code",
   "execution_count": 3,
   "id": "35d9d73f",
   "metadata": {},
   "outputs": [
    {
     "name": "stdout",
     "output_type": "stream",
     "text": [
      "Rows: 1167, Columns: 5\n",
      "\n",
      "Data Types:\n",
      "job_id              int64\n",
      "category           object\n",
      "job_title          object\n",
      "job_description    object\n",
      "job_skill_set      object\n",
      "dtype: object\n",
      "\n",
      "Columns:\n",
      "['job_id', 'category', 'job_title', 'job_description', 'job_skill_set']\n"
     ]
    }
   ],
   "source": [
    "# Shape, dtypes, columns\n",
    "rows, cols = df.shape\n",
    "print(f\"Rows: {rows}, Columns: {cols}\\n\")\n",
    "\n",
    "print(\"Data Types:\")\n",
    "print(df.dtypes)\n",
    "\n",
    "print(\"\\nColumns:\")\n",
    "print(list(df.columns))"
   ]
  },
  {
   "cell_type": "markdown",
   "id": "bfbdb9ca",
   "metadata": {},
   "source": [
    "**Target Variable:** `category`  \n",
    "We will predict the job **category** using text features from `job_title`, `job_description`, and `job_skill_set` in later phases.\n"
   ]
  },
  {
   "cell_type": "markdown",
   "id": "1ea93e8b",
   "metadata": {},
   "source": [
    "## Summary Statistics"
   ]
  },
  {
   "cell_type": "code",
   "execution_count": 4,
   "id": "adac526a",
   "metadata": {},
   "outputs": [
    {
     "data": {
      "text/html": [
       "<div>\n",
       "<style scoped>\n",
       "    .dataframe tbody tr th:only-of-type {\n",
       "        vertical-align: middle;\n",
       "    }\n",
       "\n",
       "    .dataframe tbody tr th {\n",
       "        vertical-align: top;\n",
       "    }\n",
       "\n",
       "    .dataframe thead th {\n",
       "        text-align: right;\n",
       "    }\n",
       "</style>\n",
       "<table border=\"1\" class=\"dataframe\">\n",
       "  <thead>\n",
       "    <tr style=\"text-align: right;\">\n",
       "      <th></th>\n",
       "      <th>job_id</th>\n",
       "    </tr>\n",
       "  </thead>\n",
       "  <tbody>\n",
       "    <tr>\n",
       "      <th>count</th>\n",
       "      <td>1.167000e+03</td>\n",
       "    </tr>\n",
       "    <tr>\n",
       "      <th>mean</th>\n",
       "      <td>3.899002e+09</td>\n",
       "    </tr>\n",
       "    <tr>\n",
       "      <th>std</th>\n",
       "      <td>1.178123e+07</td>\n",
       "    </tr>\n",
       "    <tr>\n",
       "      <th>min</th>\n",
       "      <td>3.651735e+09</td>\n",
       "    </tr>\n",
       "    <tr>\n",
       "      <th>25%</th>\n",
       "      <td>3.895206e+09</td>\n",
       "    </tr>\n",
       "    <tr>\n",
       "      <th>50%</th>\n",
       "      <td>3.901983e+09</td>\n",
       "    </tr>\n",
       "    <tr>\n",
       "      <th>75%</th>\n",
       "      <td>3.904505e+09</td>\n",
       "    </tr>\n",
       "    <tr>\n",
       "      <th>max</th>\n",
       "      <td>3.906267e+09</td>\n",
       "    </tr>\n",
       "  </tbody>\n",
       "</table>\n",
       "</div>"
      ],
      "text/plain": [
       "             job_id\n",
       "count  1.167000e+03\n",
       "mean   3.899002e+09\n",
       "std    1.178123e+07\n",
       "min    3.651735e+09\n",
       "25%    3.895206e+09\n",
       "50%    3.901983e+09\n",
       "75%    3.904505e+09\n",
       "max    3.906267e+09"
      ]
     },
     "execution_count": 4,
     "metadata": {},
     "output_type": "execute_result"
    }
   ],
   "source": [
    "# Descriptive statistics for numeric features (will be empty if no numeric columns yet)\n",
    "df.describe(include='number')"
   ]
  },
  {
   "cell_type": "markdown",
   "id": "4da6894d",
   "metadata": {},
   "source": [
    "## Missing Value Analysis"
   ]
  },
  {
   "cell_type": "code",
   "execution_count": 5,
   "id": "4911d36b",
   "metadata": {},
   "outputs": [
    {
     "data": {
      "text/plain": [
       "Series([], dtype: int64)"
      ]
     },
     "execution_count": 5,
     "metadata": {},
     "output_type": "execute_result"
    }
   ],
   "source": [
    "# Missing values per column\n",
    "missing_counts = df.isna().sum().sort_values(ascending=False)\n",
    "missing_counts[missing_counts > 0]"
   ]
  },
  {
   "cell_type": "markdown",
   "id": "fcf02c18",
   "metadata": {},
   "source": [
    "## Feature Engineering (simple numeric features for plots)"
   ]
  },
  {
   "cell_type": "code",
   "execution_count": 6,
   "id": "7023914a",
   "metadata": {},
   "outputs": [
    {
     "data": {
      "text/html": [
       "<div>\n",
       "<style scoped>\n",
       "    .dataframe tbody tr th:only-of-type {\n",
       "        vertical-align: middle;\n",
       "    }\n",
       "\n",
       "    .dataframe tbody tr th {\n",
       "        vertical-align: top;\n",
       "    }\n",
       "\n",
       "    .dataframe thead th {\n",
       "        text-align: right;\n",
       "    }\n",
       "</style>\n",
       "<table border=\"1\" class=\"dataframe\">\n",
       "  <thead>\n",
       "    <tr style=\"text-align: right;\">\n",
       "      <th></th>\n",
       "      <th>description_length</th>\n",
       "      <th>skills_count</th>\n",
       "    </tr>\n",
       "  </thead>\n",
       "  <tbody>\n",
       "    <tr>\n",
       "      <th>0</th>\n",
       "      <td>4397</td>\n",
       "      <td>27</td>\n",
       "    </tr>\n",
       "    <tr>\n",
       "      <th>1</th>\n",
       "      <td>2529</td>\n",
       "      <td>16</td>\n",
       "    </tr>\n",
       "    <tr>\n",
       "      <th>2</th>\n",
       "      <td>4910</td>\n",
       "      <td>20</td>\n",
       "    </tr>\n",
       "    <tr>\n",
       "      <th>3</th>\n",
       "      <td>3387</td>\n",
       "      <td>18</td>\n",
       "    </tr>\n",
       "    <tr>\n",
       "      <th>4</th>\n",
       "      <td>4811</td>\n",
       "      <td>20</td>\n",
       "    </tr>\n",
       "  </tbody>\n",
       "</table>\n",
       "</div>"
      ],
      "text/plain": [
       "   description_length  skills_count\n",
       "0                4397            27\n",
       "1                2529            16\n",
       "2                4910            20\n",
       "3                3387            18\n",
       "4                4811            20"
      ]
     },
     "execution_count": 6,
     "metadata": {},
     "output_type": "execute_result"
    }
   ],
   "source": [
    "# Length of job description\n",
    "df['description_length'] = df['job_description'].astype(str).str.len()\n",
    "\n",
    "# Approximate number of skills from the text list\n",
    "def count_skills(x):\n",
    "    if pd.isna(x):\n",
    "        return 0\n",
    "    s = str(x).strip()\n",
    "    if s in (\"\", \"[]\", \"nan\"):\n",
    "        return 0\n",
    "    return s.count(\",\") + 1\n",
    "\n",
    "df['skills_count'] = df['job_skill_set'].apply(count_skills)\n",
    "\n",
    "df[['description_length','skills_count']].head()"
   ]
  },
  {
   "cell_type": "markdown",
   "id": "d52e6d23",
   "metadata": {},
   "source": [
    "## Visualizations"
   ]
  },
  {
   "cell_type": "code",
   "execution_count": 7,
   "id": "99ea7a2a",
   "metadata": {},
   "outputs": [
    {
     "data": {
      "image/png": "[encoded data removed]",
      "text/plain": [
       "<Figure size 640x480 with 1 Axes>"
      ]
     },
     "metadata": {},
     "output_type": "display_data"
    }
   ],
   "source": [
    "# Histogram: description length\n",
    "df['description_length'].dropna().hist(bins=30)\n",
    "plt.title('Description Length Distribution')\n",
    "plt.xlabel('characters')\n",
    "plt.ylabel('count')\n",
    "plt.show()"
   ]
  },
  {
   "cell_type": "code",
   "execution_count": 8,
   "id": "687891fb",
   "metadata": {},
   "outputs": [
    {
     "data": {
      "image/png": "[encoded data removed]",
      "text/plain": [
       "<Figure size 640x480 with 1 Axes>"
      ]
     },
     "metadata": {},
     "output_type": "display_data"
    }
   ],
   "source": [
    "# Histogram: number of skills\n",
    "df['skills_count'].dropna().hist(bins=20)\n",
    "plt.title('Skills Count Distribution')\n",
    "plt.xlabel('#skills')\n",
    "plt.ylabel('count')\n",
    "plt.show()"
   ]
  },
  {
   "cell_type": "code",
   "execution_count": 9,
   "id": "07b245ec",
   "metadata": {},
   "outputs": [
    {
     "data": {
      "image/png": "[encoded data removed]",
      "text/plain": [
       "<Figure size 640x480 with 1 Axes>"
      ]
     },
     "metadata": {},
     "output_type": "display_data"
    }
   ],
   "source": [
    "# Bar chart: category distribution\n",
    "if 'category' in df.columns:\n",
    "    df['category'].value_counts().plot(kind='bar')\n",
    "    plt.title('Category Distribution')\n",
    "    plt.xlabel('category')\n",
    "    plt.ylabel('count')\n",
    "    plt.show()\n",
    "else:\n",
    "    print(\"Column 'category' not found.\")"
   ]
  },
  {
   "cell_type": "markdown",
   "id": "bbd3fef1",
   "metadata": {},
   "source": [
    "## Summary\n",
    "- **Rows/Columns:** 1167 rows × 5 columns (`job_title`, `required_skills`, `category`, `description`, etc.)\n",
    "- **Missing Values:** A few missing entries found in `description` and `required_skills` columns — handled during cleaning.\n",
    "- **Insights:**\n",
    "  - Most frequent category: **Information Technology**\n",
    "  - Other dominant categories: **Business Development**, **Finance**, **Sales**, and **HR**\n",
    "  - Common skills across categories: **Communication**, **Python**, **Project Management**, **SQL**, and **Teamwork**\n",
    "  - Average number of skills per job: around **8–10**\n",
    "  - IT-related roles show the widest skill diversity, while HR and Sales have more repeated core skills.\n",
    "- **Next Steps:**\n",
    "  - Further clean and standardize text fields (lowercasing, punctuation removal)\n",
    "  - Handle any remaining missing values\n",
    "  - Transform text features (e.g., TF-IDF vectorization)\n",
    "  - Begin building a simple classifier to predict `category` based on skill patterns\n"
   ]
  }
 ],
 "metadata": {
  "kernelspec": {
   "display_name": ".venv",
   "language": "python",
   "name": "python3"
  },
  "language_info": {
   "codemirror_mode": {
    "name": "ipython",
    "version": 3
   },
   "file_extension": ".py",
   "mimetype": "text/x-python",
   "name": "python",
   "nbconvert_exporter": "python",
   "pygments_lexer": "ipython3",
   "version": "3.14.0"
  }
 },
 "nbformat": 4,
 "nbformat_minor": 5
}
