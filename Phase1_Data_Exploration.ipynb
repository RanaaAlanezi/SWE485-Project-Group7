{
 "cells": [
  {
   "cell_type": "markdown",
   "id": "ccb7eb90",
   "metadata": {},
   "source": [
    "# Phase1_Data_Exploration\n",
    "\n",
    "**Course:** SWE 485  \n",
    "**Notebook:** Phase1_Data_Exploration.ipynb\n",
    "\n",
    "## Dataset Goal & Source\n",
    "- **Goal:** Analyze relationships between job titles and required skills for recommendation.\n",
    "- **Source:** https://www.kaggle.com/datasets/batuhanmutlu/job-skill-set?resource=download"
   ]
  },
  {
   "cell_type": "code",
   "execution_count": 55,
   "id": "5aecfdc3",
   "metadata": {},
   "outputs": [],
   "source": [
    "#Imports\n",
    "import pandas as pd\n",
    "import numpy as np\n",
    "import matplotlib.pyplot as plt\n",
    "\n",
    "pd.set_option(\"display.max_columns\", 50)\n",
    "pd.set_option(\"display.width\", 120)"
   ]
  },
  {
   "cell_type": "code",
   "execution_count": 56,
   "id": "207794e4",
   "metadata": {},
   "outputs": [
    {
     "name": "stdout",
     "output_type": "stream",
     "text": [
      "Loaded: Dataset/jobs_dataset_raw.csv\n"
     ]
    },
    {
     "data": {
      "text/html": [
       "<div>\n",
       "<style scoped>\n",
       "    .dataframe tbody tr th:only-of-type {\n",
       "        vertical-align: middle;\n",
       "    }\n",
       "\n",
       "    .dataframe tbody tr th {\n",
       "        vertical-align: top;\n",
       "    }\n",
       "\n",
       "    .dataframe thead th {\n",
       "        text-align: right;\n",
       "    }\n",
       "</style>\n",
       "<table border=\"1\" class=\"dataframe\">\n",
       "  <thead>\n",
       "    <tr style=\"text-align: right;\">\n",
       "      <th></th>\n",
       "      <th>job_id</th>\n",
       "      <th>category</th>\n",
       "      <th>job_title</th>\n",
       "      <th>job_description</th>\n",
       "      <th>job_skill_set</th>\n",
       "    </tr>\n",
       "  </thead>\n",
       "  <tbody>\n",
       "    <tr>\n",
       "      <th>0</th>\n",
       "      <td>3902668440</td>\n",
       "      <td>HR</td>\n",
       "      <td>Sr Human Resource Generalist</td>\n",
       "      <td>SUMMARY\\nTHE SR. HR GENERALIST PROVIDES HR EXP...</td>\n",
       "      <td>['employee relations', 'talent acquisition', '...</td>\n",
       "    </tr>\n",
       "    <tr>\n",
       "      <th>1</th>\n",
       "      <td>3905823748</td>\n",
       "      <td>HR</td>\n",
       "      <td>Human Resources Manager</td>\n",
       "      <td>BE PART OF A STELLAR TEAM AT YSB AS THE MANAGE...</td>\n",
       "      <td>['Talent Acquisition', 'Employee Performance M...</td>\n",
       "    </tr>\n",
       "    <tr>\n",
       "      <th>2</th>\n",
       "      <td>3905854799</td>\n",
       "      <td>HR</td>\n",
       "      <td>Director of Human Resources</td>\n",
       "      <td>OUR CLIENT IS A THRIVING ORGANIZATION OFFERING...</td>\n",
       "      <td>['Human Resources Management', 'Recruitment', ...</td>\n",
       "    </tr>\n",
       "    <tr>\n",
       "      <th>3</th>\n",
       "      <td>3905834061</td>\n",
       "      <td>HR</td>\n",
       "      <td>Chief Human Resources Officer</td>\n",
       "      <td>JOB TITLE: CHIEF HUMAN RESOURCES OFFICER (CHRO...</td>\n",
       "      <td>['talent management', 'organizational developm...</td>\n",
       "    </tr>\n",
       "    <tr>\n",
       "      <th>4</th>\n",
       "      <td>3906250451</td>\n",
       "      <td>HR</td>\n",
       "      <td>Human Resources Generalist (Hybrid Role)</td>\n",
       "      <td>DESCRIPTION\\n\\n WHO WE ARE \\n\\nAVI-SPL IS A DI...</td>\n",
       "      <td>['Microsoft Office', 'Data analysis', 'Employe...</td>\n",
       "    </tr>\n",
       "  </tbody>\n",
       "</table>\n",
       "</div>"
      ],
      "text/plain": [
       "       job_id category                                 job_title                                    job_description  \\\n",
       "0  3902668440       HR              Sr Human Resource Generalist  SUMMARY\\nTHE SR. HR GENERALIST PROVIDES HR EXP...   \n",
       "1  3905823748       HR                   Human Resources Manager  BE PART OF A STELLAR TEAM AT YSB AS THE MANAGE...   \n",
       "2  3905854799       HR               Director of Human Resources  OUR CLIENT IS A THRIVING ORGANIZATION OFFERING...   \n",
       "3  3905834061       HR             Chief Human Resources Officer  JOB TITLE: CHIEF HUMAN RESOURCES OFFICER (CHRO...   \n",
       "4  3906250451       HR  Human Resources Generalist (Hybrid Role)  DESCRIPTION\\n\\n WHO WE ARE \\n\\nAVI-SPL IS A DI...   \n",
       "\n",
       "                                       job_skill_set  \n",
       "0  ['employee relations', 'talent acquisition', '...  \n",
       "1  ['Talent Acquisition', 'Employee Performance M...  \n",
       "2  ['Human Resources Management', 'Recruitment', ...  \n",
       "3  ['talent management', 'organizational developm...  \n",
       "4  ['Microsoft Office', 'Data analysis', 'Employe...  "
      ]
     },
     "execution_count": 56,
     "metadata": {},
     "output_type": "execute_result"
    }
   ],
   "source": [
    "#Load Dataset\n",
    "\n",
    "DATA_PATH = \"Dataset/jobs_dataset_raw.csv\"\n",
    "\n",
    "try:\n",
    "    df = pd.read_csv(DATA_PATH)\n",
    "    print(f\"Loaded: {DATA_PATH}\")\n",
    "except FileNotFoundError as e:\n",
    "    raise FileNotFoundError(f\"File not found: '{DATA_PATH}'. Please verify the name and folder.\") from e\n",
    "\n",
    "# Preview first 5 rows\n",
    "df.head()"
   ]
  },
  {
   "cell_type": "markdown",
   "id": "79866719",
   "metadata": {},
   "source": [
    "## General Information"
   ]
  },
  {
   "cell_type": "code",
   "execution_count": 57,
   "id": "35d9d73f",
   "metadata": {},
   "outputs": [
    {
     "name": "stdout",
     "output_type": "stream",
     "text": [
      "Rows: 1167, Columns: 5\n",
      "\n",
      "Data Types:\n",
      "job_id              int64\n",
      "category           object\n",
      "job_title          object\n",
      "job_description    object\n",
      "job_skill_set      object\n",
      "dtype: object\n",
      "\n",
      "Columns:\n",
      "['job_id', 'category', 'job_title', 'job_description', 'job_skill_set']\n"
     ]
    }
   ],
   "source": [
    "# Shape, dtypes, columns\n",
    "rows, cols = df.shape\n",
    "print(f\"Rows: {rows}, Columns: {cols}\\n\")\n",
    "\n",
    "print(\"Data Types:\")\n",
    "print(df.dtypes)\n",
    "\n",
    "print(\"\\nColumns:\")\n",
    "print(list(df.columns))"
   ]
  },
  {
   "cell_type": "markdown",
   "id": "bfbdb9ca",
   "metadata": {},
   "source": [
    "**Target Variable:** `category`  \n",
    "In this phase, the category is selected as the target variable for exploratory analysis to understand how skills relate to job categories."
   ]
  },
  {
   "cell_type": "markdown",
   "id": "1ea93e8b",
   "metadata": {},
   "source": [
    "## Summary Statistics"
   ]
  },
  {
   "cell_type": "code",
   "execution_count": 58,
   "id": "adac526a",
   "metadata": {},
   "outputs": [
    {
     "data": {
      "text/html": [
       "<div>\n",
       "<style scoped>\n",
       "    .dataframe tbody tr th:only-of-type {\n",
       "        vertical-align: middle;\n",
       "    }\n",
       "\n",
       "    .dataframe tbody tr th {\n",
       "        vertical-align: top;\n",
       "    }\n",
       "\n",
       "    .dataframe thead th {\n",
       "        text-align: right;\n",
       "    }\n",
       "</style>\n",
       "<table border=\"1\" class=\"dataframe\">\n",
       "  <thead>\n",
       "    <tr style=\"text-align: right;\">\n",
       "      <th></th>\n",
       "      <th>job_id</th>\n",
       "    </tr>\n",
       "  </thead>\n",
       "  <tbody>\n",
       "    <tr>\n",
       "      <th>count</th>\n",
       "      <td>1.167000e+03</td>\n",
       "    </tr>\n",
       "    <tr>\n",
       "      <th>mean</th>\n",
       "      <td>3.899002e+09</td>\n",
       "    </tr>\n",
       "    <tr>\n",
       "      <th>std</th>\n",
       "      <td>1.178123e+07</td>\n",
       "    </tr>\n",
       "    <tr>\n",
       "      <th>min</th>\n",
       "      <td>3.651735e+09</td>\n",
       "    </tr>\n",
       "    <tr>\n",
       "      <th>25%</th>\n",
       "      <td>3.895206e+09</td>\n",
       "    </tr>\n",
       "    <tr>\n",
       "      <th>50%</th>\n",
       "      <td>3.901983e+09</td>\n",
       "    </tr>\n",
       "    <tr>\n",
       "      <th>75%</th>\n",
       "      <td>3.904505e+09</td>\n",
       "    </tr>\n",
       "    <tr>\n",
       "      <th>max</th>\n",
       "      <td>3.906267e+09</td>\n",
       "    </tr>\n",
       "  </tbody>\n",
       "</table>\n",
       "</div>"
      ],
      "text/plain": [
       "             job_id\n",
       "count  1.167000e+03\n",
       "mean   3.899002e+09\n",
       "std    1.178123e+07\n",
       "min    3.651735e+09\n",
       "25%    3.895206e+09\n",
       "50%    3.901983e+09\n",
       "75%    3.904505e+09\n",
       "max    3.906267e+09"
      ]
     },
     "execution_count": 58,
     "metadata": {},
     "output_type": "execute_result"
    }
   ],
   "source": [
    "# Descriptive statistics for numeric features\n",
    "df.describe(include='number')"
   ]
  },
  {
   "cell_type": "markdown",
   "id": "4da6894d",
   "metadata": {},
   "source": [
    "## Missing Value Analysis"
   ]
  },
  {
   "cell_type": "code",
   "execution_count": 59,
   "id": "4911d36b",
   "metadata": {},
   "outputs": [
    {
     "data": {
      "text/plain": [
       "Series([], dtype: int64)"
      ]
     },
     "execution_count": 59,
     "metadata": {},
     "output_type": "execute_result"
    }
   ],
   "source": [
    "# Missing values per column\n",
    "missing_counts = df.isna().sum().sort_values(ascending=False)\n",
    "missing_counts[missing_counts > 0]"
   ]
  },
  {
   "cell_type": "markdown",
   "id": "fcf02c18",
   "metadata": {},
   "source": [
    "## Feature Engineering"
   ]
  },
  {
   "cell_type": "code",
   "execution_count": 60,
   "id": "7023914a",
   "metadata": {},
   "outputs": [
    {
     "data": {
      "text/html": [
       "<div>\n",
       "<style scoped>\n",
       "    .dataframe tbody tr th:only-of-type {\n",
       "        vertical-align: middle;\n",
       "    }\n",
       "\n",
       "    .dataframe tbody tr th {\n",
       "        vertical-align: top;\n",
       "    }\n",
       "\n",
       "    .dataframe thead th {\n",
       "        text-align: right;\n",
       "    }\n",
       "</style>\n",
       "<table border=\"1\" class=\"dataframe\">\n",
       "  <thead>\n",
       "    <tr style=\"text-align: right;\">\n",
       "      <th></th>\n",
       "      <th>description_length</th>\n",
       "      <th>skills_count</th>\n",
       "    </tr>\n",
       "  </thead>\n",
       "  <tbody>\n",
       "    <tr>\n",
       "      <th>0</th>\n",
       "      <td>4397</td>\n",
       "      <td>27</td>\n",
       "    </tr>\n",
       "    <tr>\n",
       "      <th>1</th>\n",
       "      <td>2529</td>\n",
       "      <td>16</td>\n",
       "    </tr>\n",
       "    <tr>\n",
       "      <th>2</th>\n",
       "      <td>4910</td>\n",
       "      <td>20</td>\n",
       "    </tr>\n",
       "    <tr>\n",
       "      <th>3</th>\n",
       "      <td>3387</td>\n",
       "      <td>18</td>\n",
       "    </tr>\n",
       "    <tr>\n",
       "      <th>4</th>\n",
       "      <td>4811</td>\n",
       "      <td>20</td>\n",
       "    </tr>\n",
       "  </tbody>\n",
       "</table>\n",
       "</div>"
      ],
      "text/plain": [
       "   description_length  skills_count\n",
       "0                4397            27\n",
       "1                2529            16\n",
       "2                4910            20\n",
       "3                3387            18\n",
       "4                4811            20"
      ]
     },
     "execution_count": 60,
     "metadata": {},
     "output_type": "execute_result"
    }
   ],
   "source": [
    "# Length of job description\n",
    "df['description_length'] = df['job_description'].astype(str).str.len()\n",
    "\n",
    "# Approximate number of skills from the text list\n",
    "def count_skills(x):\n",
    "    if pd.isna(x):\n",
    "        return 0\n",
    "    s = str(x).strip()\n",
    "    if s in (\"\", \"[]\", \"nan\"):\n",
    "        return 0\n",
    "    return s.count(\",\") + 1\n",
    "\n",
    "df['skills_count'] = df['job_skill_set'].apply(count_skills)\n",
    "\n",
    "df[['description_length','skills_count']].head()"
   ]
  },
  {
   "cell_type": "markdown",
   "id": "a14e8e34",
   "metadata": {},
   "source": [
    "## Preprocessing Techniques\n",
    "\n",
    "- **1. Standardizing Text Columns**\n",
    "\n",
    "**What we did:** We made sure that columns containing text, like `job_description` and `job_skill_set`, were all formally treated as string (text) data types in our code.\n",
    "\n",
    "**Justification:** This is a foundational safety step. It prevents potential errors later on if the program comes across a number or an empty value where it expects text.\n",
    "\n",
    "- **2. Cleaning and Standardizing the Skills List**\n",
    "\n",
    "**What we did:** The skills in the `job_skill_set` column were stored as a single string of text, not a usable list. We wrote code to process this string by splitting it at each comma (`,`) to separate the skills. We also cleaned each skill by removing any extra spaces from the beginning or end.\n",
    "\n",
    "**Justification:** This was a critical step because the original text format was not ready for analysis. Without splitting and cleaning, our program would treat \" Python\" (with a space) and \"Python\" as two different skills, which would make our analysis of the most common skills incorrect.\n",
    "\n",
    "\n",
    "- **3. Creating Derived Features**\n",
    "\n",
    "**What we did:** The raw text is hard to visualize directly. So, we created two new numerical columns from the existing text data:  `description_length`(which holds the number of characters in the job description) and  `skills_count` (which holds the number of skills listed for each job).\n",
    "\n",
    "**Justification:** Creating these numerical features allowed us to perform statistical analysis and create visualizations, like histograms, to better understand the dataset's characteristics.\n"
   ]
  },
  {
   "cell_type": "markdown",
   "id": "d52e6d23",
   "metadata": {},
   "source": [
    "## Visualizations"
   ]
  },
  {
   "cell_type": "code",
   "execution_count": 61,
   "id": "99ea7a2a",
   "metadata": {},
   "outputs": [
    {
     "data": {
      "image/png": "[encoded data removed]",
      "text/plain": [
       "<Figure size 640x480 with 1 Axes>"
      ]
     },
     "metadata": {},
     "output_type": "display_data"
    }
   ],
   "source": [
    "# Histogram: description length\n",
    "df['description_length'].dropna().hist(bins=30)\n",
    "plt.title('Description Length Distribution')\n",
    "plt.xlabel('characters')\n",
    "plt.ylabel('count')\n",
    "plt.show()"
   ]
  },
  {
   "cell_type": "code",
   "execution_count": 62,
   "id": "687891fb",
   "metadata": {},
   "outputs": [
    {
     "data": {
      "image/png": "[encoded data removed]",
      "text/plain": [
       "<Figure size 640x480 with 1 Axes>"
      ]
     },
     "metadata": {},
     "output_type": "display_data"
    }
   ],
   "source": [
    "# Histogram: number of skills\n",
    "df['skills_count'].dropna().hist(bins=20)\n",
    "plt.title('Skills Count Distribution')\n",
    "plt.xlabel('#skills')\n",
    "plt.ylabel('count')\n",
    "plt.show()"
   ]
  },
  {
   "cell_type": "code",
   "execution_count": 70,
   "id": "07b245ec",
   "metadata": {},
   "outputs": [
    {
     "name": "stdout",
     "output_type": "stream",
     "text": [
      "category\n",
      "INFORMATION-TECHNOLOGY    240\n",
      "BUSINESS-DEVELOPMENT      239\n",
      "FINANCE                   236\n",
      "SALES                     232\n",
      "HR                        220\n",
      "Name: count, dtype: int64\n"
     ]
    },
    {
     "data": {
      "image/png": "[encoded data removed]",
      "text/plain": [
       "<Figure size 500x500 with 1 Axes>"
      ]
     },
     "metadata": {},
     "output_type": "display_data"
    }
   ],
   "source": [
    "# Bar chart: category distribution\n",
    "category_counts = df['category'].value_counts()\n",
    "print(category_counts)\n",
    "if 'category' in df.columns:\n",
    "    plt.figure(figsize=(5, 5)) \n",
    "    df['category'].value_counts().sort_values().plot(kind='barh')\n",
    "    plt.title('Category Distribution')\n",
    "    plt.xlabel('Number of Jobs')\n",
    "    plt.show()\n",
    "else:\n",
    "    print(\"Column 'category' not found.\")"
   ]
  },
  {
   "cell_type": "code",
   "execution_count": null,
   "id": "7ded49cc",
   "metadata": {},
   "outputs": [],
   "source": []
  },
  {
   "cell_type": "code",
   "execution_count": 64,
   "id": "f14ec2c7",
   "metadata": {},
   "outputs": [
    {
     "data": {
      "text/html": [
       "<div>\n",
       "<style scoped>\n",
       "    .dataframe tbody tr th:only-of-type {\n",
       "        vertical-align: middle;\n",
       "    }\n",
       "\n",
       "    .dataframe tbody tr th {\n",
       "        vertical-align: top;\n",
       "    }\n",
       "\n",
       "    .dataframe thead th {\n",
       "        text-align: right;\n",
       "    }\n",
       "</style>\n",
       "<table border=\"1\" class=\"dataframe\">\n",
       "  <thead>\n",
       "    <tr style=\"text-align: right;\">\n",
       "      <th></th>\n",
       "      <th>count</th>\n",
       "      <th>mean</th>\n",
       "      <th>std</th>\n",
       "      <th>min</th>\n",
       "      <th>25%</th>\n",
       "      <th>50%</th>\n",
       "      <th>75%</th>\n",
       "      <th>max</th>\n",
       "    </tr>\n",
       "  </thead>\n",
       "  <tbody>\n",
       "    <tr>\n",
       "      <th>description_length</th>\n",
       "      <td>1167.0</td>\n",
       "      <td>3768.315338</td>\n",
       "      <td>2103.065595</td>\n",
       "      <td>167.0</td>\n",
       "      <td>2124.0</td>\n",
       "      <td>3445.0</td>\n",
       "      <td>4932.5</td>\n",
       "      <td>13639.0</td>\n",
       "    </tr>\n",
       "    <tr>\n",
       "      <th>skills_count</th>\n",
       "      <td>1167.0</td>\n",
       "      <td>17.969152</td>\n",
       "      <td>5.084778</td>\n",
       "      <td>5.0</td>\n",
       "      <td>15.0</td>\n",
       "      <td>18.0</td>\n",
       "      <td>20.0</td>\n",
       "      <td>48.0</td>\n",
       "    </tr>\n",
       "  </tbody>\n",
       "</table>\n",
       "</div>"
      ],
      "text/plain": [
       "                     count         mean          std    min     25%     50%     75%      max\n",
       "description_length  1167.0  3768.315338  2103.065595  167.0  2124.0  3445.0  4932.5  13639.0\n",
       "skills_count        1167.0    17.969152     5.084778    5.0    15.0    18.0    20.0     48.0"
      ]
     },
     "metadata": {},
     "output_type": "display_data"
    },
    {
     "data": {
      "text/html": [
       "<div>\n",
       "<style scoped>\n",
       "    .dataframe tbody tr th:only-of-type {\n",
       "        vertical-align: middle;\n",
       "    }\n",
       "\n",
       "    .dataframe tbody tr th {\n",
       "        vertical-align: top;\n",
       "    }\n",
       "\n",
       "    .dataframe thead th {\n",
       "        text-align: right;\n",
       "    }\n",
       "</style>\n",
       "<table border=\"1\" class=\"dataframe\">\n",
       "  <thead>\n",
       "    <tr style=\"text-align: right;\">\n",
       "      <th></th>\n",
       "      <th>variance</th>\n",
       "    </tr>\n",
       "  </thead>\n",
       "  <tbody>\n",
       "    <tr>\n",
       "      <th>description_length</th>\n",
       "      <td>4.422885e+06</td>\n",
       "    </tr>\n",
       "    <tr>\n",
       "      <th>skills_count</th>\n",
       "      <td>2.585497e+01</td>\n",
       "    </tr>\n",
       "  </tbody>\n",
       "</table>\n",
       "</div>"
      ],
      "text/plain": [
       "                        variance\n",
       "description_length  4.422885e+06\n",
       "skills_count        2.585497e+01"
      ]
     },
     "metadata": {},
     "output_type": "display_data"
    }
   ],
   "source": [
    "# Ensure df exists and the engineered features are present\n",
    "assert 'description_length' in df.columns and 'skills_count' in df.columns, \\\n",
    "    \"Run the Feature Engineering cell first.\"\n",
    "\n",
    "# Statistical summary for numeric features\n",
    "stats = df[['description_length', 'skills_count']].describe().transpose()\n",
    "display(stats)\n",
    "\n",
    "# Variance for numeric features\n",
    "variance = df[['description_length', 'skills_count']].var().to_frame('variance')\n",
    "display(variance)\n"
   ]
  },
  {
   "cell_type": "code",
   "execution_count": 65,
   "id": "8f02303d",
   "metadata": {},
   "outputs": [
    {
     "name": "stdout",
     "output_type": "stream",
     "text": [
      "Top 20 Most Common Skills:\n",
      "communication            1092\n",
      "problem solving           878\n",
      "adaptability              588\n",
      "teamwork                  569\n",
      "collaboration             341\n",
      "leadership                325\n",
      "time management           316\n",
      "interpersonal skills      288\n",
      "customer service          272\n",
      "relationship building     267\n",
      "attention to detail       253\n",
      "data analysis             251\n",
      "project management        234\n",
      "organizational skills     231\n",
      "negotiation               157\n",
      "sales                     148\n",
      "presentation skills       144\n",
      "business development      137\n",
      "financial analysis        131\n",
      "strategic thinking        127\n",
      "Name: count, dtype: int64\n"
     ]
    },
    {
     "data": {
      "image/png": "[encoded data removed]",
      "text/plain": [
       "<Figure size 1000x800 with 1 Axes>"
      ]
     },
     "metadata": {},
     "output_type": "display_data"
    }
   ],
   "source": [
    "# Skill Analysis Code\n",
    "\n",
    "# Create a list that contains all skills from all jobs\n",
    "all_skills = []\n",
    "for index, row in df.iterrows():\n",
    "    if pd.notna(row['job_skill_set']) and isinstance(row['job_skill_set'], str):\n",
    "        skills_list = [skill.strip(\" '[]\").lower() for skill in row['job_skill_set'].split(',')]\n",
    "        all_skills.extend(skills_list)\n",
    "\n",
    "# Count the frequency of each skill\n",
    "skills_series = pd.Series(all_skills)\n",
    "\n",
    "# Display the top 20 most common skills\n",
    "print(\"Top 20 Most Common Skills:\")\n",
    "top_skills = skills_series.value_counts().head(20)\n",
    "print(top_skills)\n",
    "\n",
    "# Plot the top 20 skills\n",
    "plt.figure(figsize=(10, 8))\n",
    "top_skills.sort_values().plot(kind='barh')\n",
    "plt.title('Top 20 Most Common Skills')\n",
    "plt.xlabel('Number of Mentions')\n",
    "plt.show()\n"
   ]
  },
  {
   "cell_type": "markdown",
   "id": "2340c3dd",
   "metadata": {},
   "source": [
    "### **Summary of Phase 1 Findings**\n",
    "\n",
    "This initial phase focused on exploring the job dataset to understand its structure, content, and key characteristics. Our analysis provides a solid foundation for the subsequent modeling phases.\n",
    "\n",
    "* **Dataset Overview**: The dataset consists of **1,167 job postings** with 5 primary features: `job_id`, `category`, `job_title`, `job_description`, and `job_skill_set`.\n",
    "\n",
    "* **Data Quality**: Our initial check showed **no officially missing values** (`nulls`). However, we identified and handled \"empty-like\" text entries (e.g., `[]`) during our preprocessing to ensure they were counted as having zero skills, which makes our analysis more accurate.\n",
    "\n",
    "* **Key Insights from Analysis**:\n",
    "    * **Job Category Distribution**: The dataset is divided into **five distinct job categories**. The most frequent category is **Information Technology**, with the other four being **HR**, **Sales**, **Finance**, and **Business Development**. This shows the dataset is focused on key business and technology roles.\n",
    "    \n",
    "    * **Most In-Demand Skills**: Across all job postings, the most common required skills are overwhelmingly **soft skills**. The top 5 are:\n",
    "        1.  **Communication**\n",
    "        2.  **Problem Solving**\n",
    "        3.  **Teamwork**\n",
    "        4.  **Adaptability**\n",
    "        5.  **Collaboration**\n",
    "    * **Skills per Job**: Most job postings list between **15 and 20 required skills**, as shown in the skills count distribution. Very few jobs list more than 30 skills.\n",
    "\n",
    "* **Class Distribution**: The dataset is **well-balanced** across all five categories. The distribution is nearly even, with the highest class (IT at 240) and the lowest (HR at 220) being very close. This is ideal for the modeling phase as it prevents model bias.\n",
    "\n",
    "* **Next Steps**: The insights gained from this exploratory analysis are crucial. For Phase 2, we will use the cleaned skills data to build our first supervised learning models to predict a job's `category`. For later phases, we will shift our target to the more detailed `job_title` and explore using text features from the `job_description` to build a more powerful recommendation system."
   ]
  }
 ],
 "metadata": {
  "kernelspec": {
   "display_name": "Python 3",
   "language": "python",
   "name": "python3"
  },
  "language_info": {
   "codemirror_mode": {
    "name": "ipython",
    "version": 3
   },
   "file_extension": ".py",
   "mimetype": "text/x-python",
   "name": "python",
   "nbconvert_exporter": "python",
   "pygments_lexer": "ipython3",
   "version": "3.9.6"
  }
 },
 "nbformat": 4,
 "nbformat_minor": 5
}
